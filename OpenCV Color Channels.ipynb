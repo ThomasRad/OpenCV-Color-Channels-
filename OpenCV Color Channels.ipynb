{
 "cells": [
  {
   "cell_type": "markdown",
   "metadata": {},
   "source": [
    "# Following Along YouTube Tutorial "
   ]
  },
  {
   "cell_type": "markdown",
   "metadata": {},
   "source": [
    "## Color Channels"
   ]
  },
  {
   "cell_type": "code",
   "execution_count": 21,
   "metadata": {},
   "outputs": [],
   "source": [
    "# Import packages\n",
    "\n",
    "import cv2 as cv\n",
    "import numpy as np \n",
    "\n",
    "# Read the image \n",
    "\n",
    "img = cv.imread('/Users/tradk/dogs-vs-cats/train/cat.1.jpg')"
   ]
  },
  {
   "cell_type": "code",
   "execution_count": 23,
   "metadata": {},
   "outputs": [
    {
     "data": {
      "text/plain": [
       "-1"
      ]
     },
     "execution_count": 23,
     "metadata": {},
     "output_type": "execute_result"
    }
   ],
   "source": [
    "# We will split the color channels of the image. \n",
    "\n",
    "b,g,r = cv.split(img)\n",
    "\n",
    "# Show the Blue Channel \n",
    "\n",
    "cv.imshow('Blue',b)\n",
    "\n",
    "# Show the Green Channel \n",
    "\n",
    "cv.imshow('Green',g)\n",
    "\n",
    "# Show the Red Channel \n",
    "\n",
    "cv.imshow('Red',r)\n",
    "cv.waitKey(0)"
   ]
  },
  {
   "cell_type": "code",
   "execution_count": 24,
   "metadata": {},
   "outputs": [
    {
     "data": {
      "text/plain": [
       "-1"
      ]
     },
     "execution_count": 24,
     "metadata": {},
     "output_type": "execute_result"
    }
   ],
   "source": [
    "# Merging color channels\n",
    "\n",
    "merged = cv.merge([b,g,r])\n",
    "\n",
    "#Display the merged image\n",
    "\n",
    "cv.imshow('Merged img', merged)\n",
    "cv.waitKey(0)"
   ]
  },
  {
   "cell_type": "code",
   "execution_count": 25,
   "metadata": {},
   "outputs": [
    {
     "data": {
      "text/plain": [
       "-1"
      ]
     },
     "execution_count": 25,
     "metadata": {},
     "output_type": "execute_result"
    }
   ],
   "source": [
    "# If we want to display the color for each color channel. \n",
    "\n",
    "# Create a blank image. \n",
    "blank = np.zeros(img.shape[:2], dtype='uint8')\n",
    "\n",
    "# Create the frames for each color channel. Blue, Green, and Red.\n",
    "\n",
    "blue = cv.merge([b,blank,blank])\n",
    "green = cv.merge([blank,g,blank])\n",
    "red = cv.merge([blank,blank,r])\n",
    "\n",
    "# Display the images now. \n",
    "\n",
    "cv.imshow('Blue', blue)\n",
    "cv.imshow('Green', green)\n",
    "cv.imshow('Red', red)\n",
    "cv.waitKey(0)"
   ]
  }
 ],
 "metadata": {
  "kernelspec": {
   "display_name": "Python 3",
   "language": "python",
   "name": "python3"
  },
  "language_info": {
   "codemirror_mode": {
    "name": "ipython",
    "version": 3
   },
   "file_extension": ".py",
   "mimetype": "text/x-python",
   "name": "python",
   "nbconvert_exporter": "python",
   "pygments_lexer": "ipython3",
   "version": "3.7.6"
  }
 },
 "nbformat": 4,
 "nbformat_minor": 4
}
